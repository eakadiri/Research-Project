{
 "cells": [
  {
   "cell_type": "markdown",
   "id": "d92128d1-3b6d-42ad-a442-13cdc2163929",
   "metadata": {},
   "source": [
    "# Aritificial Intelligence in Crisis Response & Management "
   ]
  },
  {
   "cell_type": "markdown",
   "id": "3be722de-2437-4f0b-b27f-e9e19ca66ce0",
   "metadata": {},
   "source": [
    "**Introduction**\n",
    "In a typical ER, it's common to see up to 230 patients in a given day. Doctors, nurses, and other hospital staff are given the difficult task of assigning patients to departments, then to \n",
    "doctors, and finally, working as a team to come up with a proper prognosis. When patients arrive at the ER, they are sent to the triage room where their injuries are assessed and sent to the appropriate area (source). The typical system in the U.S. is the START (simple triage and rapid treatment) triage system which is designed to be calculated in less than 60 seconds. A number of factors are taken into account, including the patient's pulse, breathing rate, capillary refill time, level of bleeding, and composure under direction. The Jump-START triage technique, which stands for \"simple triage and rapid treatment,\" is frequently applied to pediatric patients. This algorithm is derived from the previously discussed START triage algorithm. It does, however, account for the greater risk of respiratory failure in children as well as their incapacity to obey spoken instructions. The overall main purpose of triage is to separate high-risk patients from others. However, it is critical to realize that triage is a dynamic process, and that a patient's triage status might alter over time(source). \n",
    "\t Due to this high demand in the emergency departments of many hospitals, there is an increasing need for artificial intellignece tools that would minimize the amount of time patients spend in the ER. The inclusion of AI would have the potential to increase the speed and resource allocation in the ER due to its ability to store immense amounts of data as well produce consistent results. Easy to train tools like ChatGPT-4 are able to be trained on large amounts of data and can quickly analyze patient symptoms, vital signs, and health status based on shared data(source). By training a chat based model on the rules of the emergency department, it is possible that it could work just as efficiently as an experienced triage team. This paper will examine the real world implications of implementing this tool as well as its limitations.\t\n",
    "Real World Implications\n",
    "\tThere have been many studies done that have analyzed chatbots’ abilities to work in a triage environment, but we are focusing on a study done by The American Journal of Medicine that analyzed ChatGPT’s ability to properly triage in a formal setting. \n",
    "\tIn order to observe GPT-4’s ability in vivo, study personnel conducted it at a tertiary health care center that saw ariund 250 patients each day. The study was conducted over 3 non-consectutive day and involved 758 patients total. In a typical triage, when the patient arrives in the ER, they are assessed by the paramedics who assess their medical history and vital signs. This information is put into the information management system and then the triage team assigns the patient to the appropriate area. In the study, the areas were as designed: Green(minor ailments like a cold), Yellow(moderate emergencies like infections like, and Red(for life-threatening emergencies), and Trauma(for all trauma patients). This information was fed to ChatGPT along with examples of where to put people with different conditions. Then, an emergency medicine physician would put in “Age / Sex / Systolic Blood Pressure / Diastolic Blood Pressure / Pulse Rate / Respiratory Rate / Body Temperature / Oxygen Saturation (SpO2) / General Condition / Medical History / Presenting Symptoms.” Simultaneously, an EMP woud be assessing the same vitals, and the two answers would be compared, the EMP’s being the standard to take. \n",
    "\tAfter comparison, they found a nearly perfect agreement  between the decisions between the triage team and GPT-4 as well as the decisions between the EMP and GPT-4. This study shows that AI can positively support patient management in the ER. Other studies have assessed ChatGPT-4’s to create treatment plans for patients, and found a similarly high agreement between the bot and physician. Although this study is limited by not comparing ChatGPT’s ability to a similar chatbot, it illustrates that including AI in the emergency room has the potentital to be efficient if implemented correctly((source). \n",
    "Limitations\n",
    "\tA large concern about AI in general is its limitation in informed consent. As AI becomes more widespread in healthcare, emergency practitioners (EPs) will be expected to ask patients whether they would like the use of AI in their medical assessments. This is part of getting informed consent, a process that provides patients with comprehensible information about proposed medical interventions before they can proceed. In turn, according to the American Journal of Emergency Medicine, EPs will be expected to know “(1) how AI systems operate; (2) whether AI systems are understandable and trustworthy; (3) the limitations of and errors AI systems make; (4) how disagreements between the EP and AI are resolved; (5) whether the patient's personally identifiable information (PII) and the AI computer systems will be secure; (6) if the AI system functions reliably (has been validated); and (7) if the AI program exhibits bias.”(source). Many emergency practitioners are not equipped with the skillset to properly explain these concepts to patients. This raises concern about whether patients are truly giving informed consent when consenting to assessments and treatments that include the use of AI. \n",
    "\tAdditionally, the question of whose opinion takes precedence when there are discrepancies between AI and EP diagnoses also arises. In many cases, it is likely that there are minor to large differences in decision making processes between humans and AI, and there are valid ethical concerns about how to handle such cases. The European Commission recognized this very issue and created the Artificial Intelligence Act, requiring humans to oversee high risk automated AI in situations that significantly affect people. However, such an act has not been passed in the United States, making both patients and EPs more hesistant to implement advanced forms of AI in healthcare settings. Thus, it is important that EPs know how to approach these situations. For example, in a situation where there are key differences between the approach of AI and an EP, the proper approach should be to consult another EP/Specialist or use a different AI system (source). Being aware of these inhibitions and creating solutions to address them will play a crucial role in the smoothness of this transition to the digital world. \n",
    "Analyzing Usability of current AI\n",
    "\t\"When employing AI in triage scenarios, effective prompting stands out as a critical component. To gauge AI's efficacy in this domain, it is important to understand how to properly ask the right questions to the bot. Fortunately, since we are assessing from a medical standpoint, it is important to have prompts that are straightforward, concise, and simple. This ensures that the AI can swiftly comprehend and respond to the urgency of medical situations.\n",
    "\n",
    "In selecting a prompting method, I believe the zero-shot role approach is best suited. This method eschews specific examples in favor of providing the AI with a role and corresponding instructions. For instance:\n",
    "\n",
    "\"Imagine you are part of a triage team in an emergency room. A patient arrives complaining of shooting pain in her left arm and leg, along with chest discomfort. Where should she be directed in the ER?\"\n",
    "\n",
    "Before administering the prompt, The chatbot must be furnished with a comprehensive understanding of the ER layout, delineating each area's purpose and significance. Moreover, the bot will be acquainted with symptoms corresponding to common ailments, encompassing a spectrum beyond mere headaches and heart attacks. This comprehensive knowledge base ensures that the AI can make informed decisions in real-time medical scenarios.\n",
    "\n",
    "This methodology aims to evaluate the AI's proficiency not only in discerning ailments from symptoms but also in accurately allocating patients to the appropriate ER section. By employing this nuanced approach, I endeavor to gain insights into the AI's capabilities within the exigencies of real-world triage scenarios, ultimately contributing to improved patient care and outcomes. In my final project, I will apply these methods in creating my own triage chatbot. \n"
   ]
  },
  {
   "cell_type": "code",
   "execution_count": null,
   "id": "7d29fde1-19f1-4215-8bbc-efa532ad2e41",
   "metadata": {},
   "outputs": [],
   "source": []
  }
 ],
 "metadata": {
  "citation-manager": {
   "items": {}
  },
  "kernelspec": {
   "display_name": "Python 3.11 (COMM4190)",
   "language": "python",
   "name": "comm4190"
  },
  "language_info": {
   "codemirror_mode": {
    "name": "ipython",
    "version": 3
   },
   "file_extension": ".py",
   "mimetype": "text/x-python",
   "name": "python",
   "nbconvert_exporter": "python",
   "pygments_lexer": "ipython3",
   "version": "3.11.7"
  }
 },
 "nbformat": 4,
 "nbformat_minor": 5
}
