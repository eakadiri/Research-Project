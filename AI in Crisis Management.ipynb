{
 "cells": [
  {
   "cell_type": "markdown",
   "id": "d92128d1-3b6d-42ad-a442-13cdc2163929",
   "metadata": {},
   "source": [
    "# Aritificial Intelligence in Crisis Response & Management "
   ]
  },
  {
   "cell_type": "markdown",
   "id": "3be722de-2437-4f0b-b27f-e9e19ca66ce0",
   "metadata": {},
   "source": [
    "# Introduction\n",
    "\n",
    "In a typical ER, it's common to see up to 230 patients in a given day. Doctors, nurses, and other hospital staff are given the difficult task of assigning patients to departments, then to doctors, and finally, working as a team to come up with a proper prognosis. When patients arrive at the ER, they are sent to the triage room where their injuries are assessed and sent to the appropriate area (Paslı et al. 2024). The typical system in the U.S. is the START (simple triage and rapid treatment) triage system which is designed to be calculated in less than 60 seconds. A number of factors are taken into account, including the patient's pulse, breathing rate, capillary refill time, level of bleeding, and composure under\n",
    "\n",
    "Due to this high demand in the emergency departments of many hospitals, there is an increasing need for artificial intelligence tools that would minimize the amount of time patients spend in the ER. The inclusion of AI would have the potential to increase the speed and resource allocation in the ER due to its ability to store immense amounts of data as well produce consistent results. Easy to train tools like ChatGPT-4 are able to be trained on large amounts of data and can quickly analyze patient symptoms, vital signs, and health status based on shared data (Paslı et al. 2024). By training a chat based model on the rules of the emergency department, it is possible that it could work just as efficiently as an experienced triage team. This paper will examine the real-world implications of implementing this tool as well as its limitations.\t\n",
    "\n",
    "# Real World Implications\n",
    "\n",
    "There have been many studies done that have analyzed chatbots’ abilities to work in a triage environment, but we are focusing on a study done by The American Journal of Medicine that analyzed ChatGPT’s ability to properly triage in a formal setting. In order to observe GPT-4’s ability in vivo, study personnel conducted it at a tertiary health care center that saw around 250 patients each day. The study was conducted over 3 non-consecutive days and involved 758 patients total. In a typical triage, when the patient arrives in the ER, they are assessed by the paramedics who assess their medical history and vital signs. This information is put into the information management system and then the triage team assigns the patient to the appropriate area. \n",
    "\n",
    "In the study, the areas were as designed: Green (minor ailments like a cold), Yellow (moderate emergencies like infections), Red (for life-threatening emergencies), and Trauma (for all trauma patients). This information was fed to ChatGPT along with examples of where to put people with different conditions. Then, an emergency medicine physician would input “Age / Sex / Systolic Blood Pressure / Diastolic Blood Pressure / Pulse Rate / Respiratory Rate / Body Temperature / Oxygen Saturation (SpO2) / General Condition / Medical History / Presenting Symptoms.” Simultaneously, an EMP would be assessing the same vitals, and the two answers would be compared, the EMP’s being the standard to take. After comparison, they found a nearly perfect agreement between the decisions between the triage team and GPT-4 as well as the decisions between the EMP and GPT-4. This study shows that AI can positively support patient management in the ER. Other studies have assessed ChatGPT-4’s ability to create treatment plans for patients and found a similarly high agreement between the bot and physician. Although this study is limited by not comparing ChatGPT’s ability to a similar chatbot, it illustrates that including AI in the emergency room has the potential to be efficient if implemented correctly (Paslı et al. 2024). \n",
    "\n",
    "# Limitations\n",
    "\n",
    "A large concern about AI in general is its limitation in informed consent. As AI becomes more widespread in healthcare, emergency practitioners (EPs) will be expected to ask patients whether they would like the use of AI in their medical assessments. This is part of getting informed consent, a process that provides patients with comprehensible information about proposed medical interventions before they can proceed. In turn, according to the American Journal of Emergency Medicine, EPs will be expected to know “(1) how AI systems operate; (2) whether AI systems are understandable and trustworthy; (3) the limitations of and errors AI systems make; (4) how disagreements between the EP and AI are resolved; (5) whether the patient's personally identifiable information (PII) and the AI computer systems will be secure; (6) if the AI system functions reliably (has been validated); and (7) if the AI program exhibits bias” (Iserson 2024). \n",
    "\n",
    "Many emergency practitioners are not equipped with the skillset to properly explain these concepts to patients. This raises concern about whether patients are truly giving informed consent when consenting to assessments and treatments that include the use of AI. Additionally, the question of whose opinion takes precedence when there are discrepancies between AI and EP diagnoses also arises. In many cases, it is likely that there are minor to large differences in decision-making processes between humans and AI, and there are valid ethical concerns about how to handle such cases. The European Commission recognized this very issue and created the Artificial Intelligence Act, requiring humans to oversee high-risk automated AI in situations that significantly affect people. However, such an act has not been passed in the United States, making both patients and EPs more hesitant to implement advanced forms of AI in healthcare settings. Thus, it is important that EPs know how to approach these situations. For example, in a situation where there are key differences between the approach of AI and an EP, the proper approach should be to consult another EP/Specialist or use a different AI system (Iserson 2024). Being aware of these inhibitions and creating solutions to address them will play a crucial role in the smoothness of this transition to the digital world. \n",
    "\n",
    "# Analyzing Usability of current AI\n",
    "\n",
    "For AI to be effectively employed in emergency room triage scenarios, it is critical to develop prompts that are precise, clear, and tailored for the immediacy required in medical settings. Adopting a few-shot learning approach can significantly improve AI's accuracy and responsiveness in these critical environments.\n",
    "\n",
    "Few-shot learning enables the AI to quickly adapt to specific medical scenarios by training it with a small, representative set of emergency cases. This method combines the benefits of rapid adaptability with the nuanced understanding that comes from seeing actual case examples (“Learn Prompting: Your Guide to Communicating with AI”). For instance, in the study conducted at a tertiary healthcare center, the AI was trained using a limited dataset of emergency scenarios that included cases of heart attacks, strokes, and severe allergic reactions. This training allowed the AI to recognize patterns and prioritize new cases effectively.\n",
    "\n",
    "To illustrate, consider the following practical application:\n",
    "\n",
    "\"Based on your training with specific emergency scenarios, you are part of the triage team in an emergency room. A patient arrives exhibiting symptoms of shooting pain in her left arm and leg, along with chest discomfort. Using your trained knowledge from a curated dataset, including similar presentations, determine the most appropriate area within the ER for this patient.\"\n",
    "\n",
    "In the study, the AI was provided with information about the operational flow of the ER and was trained on a subset of emergency cases similar to those it would encounter. This training included key details such as patient symptoms, their severity, and the corresponding ER areas (Green for minor ailments, Yellow for moderate emergencies, Red for life-threatening conditions, and Trauma for all trauma-related cases). This setup allowed the AI to make informed triage decisions that were later compared with those of emergency medicine physicians, showing nearly perfect agreement.\n",
    "\n",
    "By using a few-shot learning framework, the AI's training is not only efficient but also deeply contextual, allowing it to perform with a high degree of accuracy in live settings. This approach demonstrates a practical balance between zero-shot and extensive supervised learning, making it highly suitable for dynamic and high-stakes environments like emergency rooms.\n",
    "\n",
    "In my final project, I will utilize this few-shot learning strategy to develop a triage chatbot, aiming to replicate and expand upon the successes observed in the aforementioned study, thereby enhancing both patient care and triage efficiency.\n",
    "\n",
    "# Conclusion\n",
    "\n",
    "Our exploration has revealed that AI, exemplified by ChatGPT-4, exhibits a remarkable capacity to assist in patient triage and treatment planning, demonstrating a high level of agreement with human practitioners. However, it is imperative to address the ethical considerations surrounding informed consent and decision-making discrepancies between AI and human experts. Proper oversight and regulations are essential to ensure patient safety and uphold ethical standards in AI-enabled healthcare. Furthermore, our proposed methodology for evaluating AI proficiency in triage scenarios, utilizing the zero-shot role approach, offers a promising avenue for assessing AI capabilities in real-time medical situations. By fostering a nuanced understanding of AI's role in emergency care, we can strive towards the development of more efficient and effective triage systems that prioritize patient well-being. As we look to the future, continued research and innovation in AI-enabled triage systems will be paramount in advancing emergency care practices. By leveraging the power of AI alongside human expertise, we can create a synergy that enhances the speed, accuracy, and responsiveness of emergency medical services, ultimately leading to improved patient care and outcomes.\n"
   ]
  },
  {
   "cell_type": "markdown",
   "id": "106b1d95-5982-41f2-b8bf-f87881c23306",
   "metadata": {},
   "source": [
    "#                                                    Works Cited\n",
    "\n",
    "\n",
    "Iserson, Kenneth V. “Informed Consent for Artificial Intelligence in Emergency Medicine: A Practical Guide.” American Journal of Emergency Medicine, vol. 76, 1 Feb. 2024, pp. 225–230, https://doi.org/10.1016/j.ajem.2023.11.022.\n",
    "\n",
    "“Learn Prompting: Your Guide to Communicating with AI.” Learnprompting.org, learnprompting.org/docs/basics/few_shot.Paslı, Sinan, et al. “Assessing the Precision of Artificial Intelligence in Emergency Department Triage Decisions: Insights from a Study with ChatGPT.” \n",
    "\n",
    "The American Journal of Emergency Medicine, vol. 78, 1 Apr. 2024, pp. 170–175, www.sciencedirect.com/science/article/abs/pii/S0735675724000408, https://doi.org/10.1016/j.ajem.2024.01.037. Accessed 14 Mar. 2024.Yancey, Charles C., and Maria C. O’Rourke. \n",
    "\n",
    "Emergency Department Triage. Www.ncbi.nlm.nih.gov, StatPearls Publishing, 28 Aug. 2023, www.ncbi.nlm.nih.gov/books/NBK557583/."
   ]
  }
 ],
 "metadata": {
  "citation-manager": {
   "items": {}
  },
  "kernelspec": {
   "display_name": "Python 3.11 (COMM4190)",
   "language": "python",
   "name": "comm4190"
  },
  "language_info": {
   "codemirror_mode": {
    "name": "ipython",
    "version": 3
   },
   "file_extension": ".py",
   "mimetype": "text/x-python",
   "name": "python",
   "nbconvert_exporter": "python",
   "pygments_lexer": "ipython3",
   "version": "3.11.7"
  }
 },
 "nbformat": 4,
 "nbformat_minor": 5
}
